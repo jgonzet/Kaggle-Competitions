{
  "nbformat": 4,
  "nbformat_minor": 0,
  "metadata": {
    "kernelspec": {
      "name": "python3",
      "display_name": "Python 3"
    },
    "colab": {
      "name": "Titanic.ipynb",
      "provenance": [],
      "collapsed_sections": [
        "gJQIELTjEsih",
        "IrbReGKTEv8f",
        "kyvdp29w0eQf",
        "AWH4DWDkE0dP",
        "IGqtyn0nt5Ji",
        "z9oBh0N5t9U2"
      ],
      "include_colab_link": true
    }
  },
  "cells": [
    {
      "cell_type": "markdown",
      "metadata": {
        "id": "view-in-github",
        "colab_type": "text"
      },
      "source": [
        "<a href=\"https://colab.research.google.com/github/jgonzet/Kaggle-Competitions/blob/main/Titanic.ipynb\" target=\"_parent\"><img src=\"https://colab.research.google.com/assets/colab-badge.svg\" alt=\"Open In Colab\"/></a>"
      ]
    },
    {
      "cell_type": "markdown",
      "metadata": {
        "id": "gJQIELTjEsih"
      },
      "source": [
        "# Libraries"
      ]
    },
    {
      "cell_type": "code",
      "metadata": {
        "id": "q1kx7LEeRqSz"
      },
      "source": [
        "import pandas as pd\n",
        "import numpy as np\n",
        "import seaborn as sns\n",
        "import matplotlib.pyplot as plt\n",
        "import sklearn.pipeline\n",
        "import sklearn.ensemble\n",
        "%matplotlib inline"
      ],
      "execution_count": 1,
      "outputs": []
    },
    {
      "cell_type": "markdown",
      "metadata": {
        "id": "IrbReGKTEv8f"
      },
      "source": [
        "# Load Data"
      ]
    },
    {
      "cell_type": "code",
      "metadata": {
        "id": "m_3qo6p8RqS0"
      },
      "source": [
        "train_df = pd.read_csv(\"/content/train.csv\")\n",
        "test_df  = pd.read_csv(\"/content/test.csv\")\n",
        "#pd.set_option('display.max_rows', train_df.shape[0]+1)"
      ],
      "execution_count": 2,
      "outputs": []
    },
    {
      "cell_type": "markdown",
      "metadata": {
        "id": "kyvdp29w0eQf"
      },
      "source": [
        "# EDA"
      ]
    },
    {
      "cell_type": "code",
      "metadata": {
        "id": "scT6_nQ4BudY"
      },
      "source": [
        "import warnings\n",
        "warnings.filterwarnings('ignore')"
      ],
      "execution_count": 3,
      "outputs": []
    },
    {
      "cell_type": "code",
      "metadata": {
        "colab": {
          "base_uri": "https://localhost:8080/"
        },
        "id": "tYl_g_-L0gYk",
        "outputId": "e985bc07-cab3-4f1b-8fec-ecce6fcf81ff"
      },
      "source": [
        "train_df.info()"
      ],
      "execution_count": null,
      "outputs": [
        {
          "output_type": "stream",
          "text": [
            "<class 'pandas.core.frame.DataFrame'>\n",
            "RangeIndex: 891 entries, 0 to 890\n",
            "Data columns (total 12 columns):\n",
            " #   Column       Non-Null Count  Dtype  \n",
            "---  ------       --------------  -----  \n",
            " 0   PassengerId  891 non-null    int64  \n",
            " 1   Survived     891 non-null    int64  \n",
            " 2   Pclass       891 non-null    int64  \n",
            " 3   Name         891 non-null    object \n",
            " 4   Sex          891 non-null    object \n",
            " 5   Age          714 non-null    float64\n",
            " 6   SibSp        891 non-null    int64  \n",
            " 7   Parch        891 non-null    int64  \n",
            " 8   Ticket       891 non-null    object \n",
            " 9   Fare         891 non-null    float64\n",
            " 10  Cabin        204 non-null    object \n",
            " 11  Embarked     889 non-null    object \n",
            "dtypes: float64(2), int64(5), object(5)\n",
            "memory usage: 83.7+ KB\n"
          ],
          "name": "stdout"
        }
      ]
    },
    {
      "cell_type": "code",
      "metadata": {
        "colab": {
          "base_uri": "https://localhost:8080/"
        },
        "id": "mYL91W0P0vGC",
        "outputId": "36d5b055-e2a0-4699-8748-7cd44013e265"
      },
      "source": [
        "train_df.Age.describe()"
      ],
      "execution_count": null,
      "outputs": [
        {
          "output_type": "execute_result",
          "data": {
            "text/plain": [
              "count    714.000000\n",
              "mean      29.699118\n",
              "std       14.526497\n",
              "min        0.420000\n",
              "25%       20.125000\n",
              "50%       28.000000\n",
              "75%       38.000000\n",
              "max       80.000000\n",
              "Name: Age, dtype: float64"
            ]
          },
          "metadata": {
            "tags": []
          },
          "execution_count": 99
        }
      ]
    },
    {
      "cell_type": "code",
      "metadata": {
        "colab": {
          "base_uri": "https://localhost:8080/",
          "height": 204
        },
        "id": "9hFAB8g3x38_",
        "outputId": "2b128069-8638-42b7-e5c6-f328e06b7d17"
      },
      "source": [
        "total = train_df.isnull().sum().sort_values(ascending=False) #\n",
        "percent_1 = train_df.isnull().sum()/train_df.isnull().count()*100 #total de nulls sobre el total\n",
        "percent_2 = (round(percent_1, 1)).sort_values(ascending=False)\n",
        "missing_data = pd.concat([total, percent_2], axis=1, keys=['Total', '%'])\n",
        "missing_data.head(5)"
      ],
      "execution_count": null,
      "outputs": [
        {
          "output_type": "execute_result",
          "data": {
            "text/html": [
              "<div>\n",
              "<style scoped>\n",
              "    .dataframe tbody tr th:only-of-type {\n",
              "        vertical-align: middle;\n",
              "    }\n",
              "\n",
              "    .dataframe tbody tr th {\n",
              "        vertical-align: top;\n",
              "    }\n",
              "\n",
              "    .dataframe thead th {\n",
              "        text-align: right;\n",
              "    }\n",
              "</style>\n",
              "<table border=\"1\" class=\"dataframe\">\n",
              "  <thead>\n",
              "    <tr style=\"text-align: right;\">\n",
              "      <th></th>\n",
              "      <th>Total</th>\n",
              "      <th>%</th>\n",
              "    </tr>\n",
              "  </thead>\n",
              "  <tbody>\n",
              "    <tr>\n",
              "      <th>Cabin</th>\n",
              "      <td>687</td>\n",
              "      <td>77.1</td>\n",
              "    </tr>\n",
              "    <tr>\n",
              "      <th>Age</th>\n",
              "      <td>177</td>\n",
              "      <td>19.9</td>\n",
              "    </tr>\n",
              "    <tr>\n",
              "      <th>Embarked</th>\n",
              "      <td>2</td>\n",
              "      <td>0.2</td>\n",
              "    </tr>\n",
              "    <tr>\n",
              "      <th>Fare</th>\n",
              "      <td>0</td>\n",
              "      <td>0.0</td>\n",
              "    </tr>\n",
              "    <tr>\n",
              "      <th>Ticket</th>\n",
              "      <td>0</td>\n",
              "      <td>0.0</td>\n",
              "    </tr>\n",
              "  </tbody>\n",
              "</table>\n",
              "</div>"
            ],
            "text/plain": [
              "          Total     %\n",
              "Cabin       687  77.1\n",
              "Age         177  19.9\n",
              "Embarked      2   0.2\n",
              "Fare          0   0.0\n",
              "Ticket        0   0.0"
            ]
          },
          "metadata": {
            "tags": []
          },
          "execution_count": 58
        }
      ]
    },
    {
      "cell_type": "markdown",
      "metadata": {
        "id": "AWH4DWDkE0dP"
      },
      "source": [
        "# Feature Engineering\n"
      ]
    },
    {
      "cell_type": "code",
      "metadata": {
        "id": "u3-6Z78u1tVX"
      },
      "source": [
        "# Fill Embarked NaN with most frequen embarked ('S'):\n",
        "\n",
        "train_df['Embarked'] = train_df['Embarked'].fillna('S')\n",
        "test_df['Embarked'] = test_df['Embarked'].fillna('S')"
      ],
      "execution_count": 5,
      "outputs": []
    },
    {
      "cell_type": "code",
      "metadata": {
        "id": "ZloAZHWwFQn1"
      },
      "source": [
        "# Mapping ports:\n",
        "\n",
        "ports = {\"S\": 0, \"C\": 1, \"Q\": 2}\n",
        "train_df['Embarked'] = train_df['Embarked'].map(ports)\n",
        "test_df['Embarked'] = test_df['Embarked'].map(ports)\n"
      ],
      "execution_count": 6,
      "outputs": []
    },
    {
      "cell_type": "code",
      "metadata": {
        "id": "uPMOshmcSzNA"
      },
      "source": [
        "# Transform Fare to int (fillna is necessary because of errors):\n",
        "\n",
        "train_df['Fare'] = train_df['Fare'].fillna(train_df.Fare.mean()).astype(int)\n",
        "test_df['Fare']  = test_df['Fare'].fillna(test_df.Fare.mean()).astype(int)"
      ],
      "execution_count": 7,
      "outputs": []
    },
    {
      "cell_type": "code",
      "metadata": {
        "id": "y8pkB_qPFKwv"
      },
      "source": [
        "# Mapping male/female to 0/1:\n",
        "\n",
        "genders = {\"male\": 0, \"female\": 1}\n",
        "train_df['Sex'] = train_df['Sex'].map(genders)\n",
        "test_df['Sex']  = test_df['Sex'].map(genders)"
      ],
      "execution_count": 8,
      "outputs": []
    },
    {
      "cell_type": "code",
      "metadata": {
        "id": "sc53zetna0Jg"
      },
      "source": [
        "# FillNa Age\n",
        "\n",
        "train_df['Age'] = train_df['Age'].fillna(train_df['Age'].mean())\n",
        "test_df['Age'] = test_df['Age'].fillna(test_df['Age'].mean())"
      ],
      "execution_count": 9,
      "outputs": []
    },
    {
      "cell_type": "code",
      "metadata": {
        "id": "_ROGoLELFbOL"
      },
      "source": [
        "X_train = train_df.drop(columns = ['Survived','PassengerId','Name','Cabin','Ticket'])\n",
        "Y_train = train_df['Survived']\n",
        "\n",
        "X_test = test_df.drop(columns = ['PassengerId','Name','Cabin','Ticket'])"
      ],
      "execution_count": 10,
      "outputs": []
    },
    {
      "cell_type": "markdown",
      "metadata": {
        "id": "-eYcQfEG3PUf"
      },
      "source": [
        "# Training Machine Learning Classifiers"
      ]
    },
    {
      "cell_type": "markdown",
      "metadata": {
        "id": "IGqtyn0nt5Ji"
      },
      "source": [
        "## Random Forest"
      ]
    },
    {
      "cell_type": "code",
      "metadata": {
        "id": "vGnMSB_layd4"
      },
      "source": [
        "# Classifier building:\n",
        "\n",
        "classifier = sklearn.ensemble.RandomForestClassifier(n_estimators=100)\n",
        "classifier = sklearn.pipeline.make_pipeline(sklearn.preprocessing.StandardScaler(),classifier) "
      ],
      "execution_count": null,
      "outputs": []
    },
    {
      "cell_type": "code",
      "metadata": {
        "colab": {
          "base_uri": "https://localhost:8080/"
        },
        "id": "SguK9a7AVnRv",
        "outputId": "a666f320-ec0a-4cda-8c03-2beef7c188b2"
      },
      "source": [
        "# Grid Search\n",
        "\n",
        "param_grid = { \"criterion\" : [\"gini\", \"entropy\"], \"min_samples_leaf\" : [1,2,3],\n",
        "               \"min_samples_split\" : [2,4,6,8,9,10], \"n_estimators\": [100]}\n",
        "\n",
        "\n",
        "#rf = sklearn.ensemble.RandomForestClassifier(n_estimators=100, max_features='auto', oob_score=True, random_state=1, n_jobs=-1)\n",
        "rf = sklearn.ensemble.RandomForestClassifier(random_state=42)\n",
        "clf = sklearn.model_selection.GridSearchCV(estimator=rf, param_grid=param_grid, n_jobs=-1)\n",
        "clf.fit(X_train, Y_train)\n",
        "clf.best_params_"
      ],
      "execution_count": null,
      "outputs": [
        {
          "output_type": "execute_result",
          "data": {
            "text/plain": [
              "{'criterion': 'gini',\n",
              " 'min_samples_leaf': 2,\n",
              " 'min_samples_split': 2,\n",
              " 'n_estimators': 100}"
            ]
          },
          "metadata": {
            "tags": []
          },
          "execution_count": 100
        }
      ]
    },
    {
      "cell_type": "code",
      "metadata": {
        "colab": {
          "base_uri": "https://localhost:8080/"
        },
        "id": "L0eLwLEQWu5z",
        "outputId": "e553b4f0-4422-4d94-8f26-eab3b59272e4"
      },
      "source": [
        "# Random Forest with best hyperparameters:\n",
        "\n",
        "random_forest = sklearn.ensemble.RandomForestClassifier(criterion = \"gini\", \n",
        "                                                        min_samples_leaf = 2, \n",
        "                                                        min_samples_split = 2,   \n",
        "                                                        n_estimators=100, \n",
        "                                                        max_features='auto', \n",
        "                                                        oob_score=True, \n",
        "                                                        random_state=42, \n",
        "                                                        n_jobs=-1)\n",
        "\n",
        "\n",
        "#random_forest = sklearn.pipeline.make_pipeline(sklearn.preprocessing.StandardScaler(),random_forest) \n",
        "random_forest.fit(X_train, Y_train)\n",
        "\n",
        "random_forest.score(X_train, Y_train)\n",
        "\n",
        "print(\"oob score:\", round(random_forest.oob_score_, 4)*100, \"%\")"
      ],
      "execution_count": null,
      "outputs": [
        {
          "output_type": "stream",
          "text": [
            "oob score: 82.27 %\n"
          ],
          "name": "stdout"
        }
      ]
    },
    {
      "cell_type": "code",
      "metadata": {
        "colab": {
          "base_uri": "https://localhost:8080/"
        },
        "id": "aBGc7Pg5axha",
        "outputId": "8664d7d5-7825-455f-ec06-535befd972d1"
      },
      "source": [
        "# Cross validation fitting:\n",
        "\n",
        "scores = sklearn.model_selection.cross_val_score(random_forest,X_train,Y_train,cv=10,scoring='accuracy')\n",
        "print(\"%0.3f accuracy with a standard deviation of %0.3f\" % (scores.mean(), scores.std()))"
      ],
      "execution_count": null,
      "outputs": [
        {
          "output_type": "stream",
          "text": [
            "0.833 accuracy with a standard deviation of 0.048\n"
          ],
          "name": "stdout"
        }
      ]
    },
    {
      "cell_type": "code",
      "metadata": {
        "colab": {
          "base_uri": "https://localhost:8080/"
        },
        "id": "jD06hjZ_biGu",
        "outputId": "63edc8ef-4ba5-422f-8967-bd0078d44044"
      },
      "source": [
        "# Confusion Matrix evaluation:\n",
        "\n",
        "predictions = sklearn.model_selection.cross_val_predict(random_forest, X_train, Y_train, cv=10)\n",
        "sklearn.metrics.confusion_matrix(Y_train, predictions)"
      ],
      "execution_count": null,
      "outputs": [
        {
          "output_type": "execute_result",
          "data": {
            "text/plain": [
              "array([[493,  56],\n",
              "       [ 96, 246]])"
            ]
          },
          "metadata": {
            "tags": []
          },
          "execution_count": 42
        }
      ]
    },
    {
      "cell_type": "code",
      "metadata": {
        "id": "AHQzeUFikjSB",
        "colab": {
          "base_uri": "https://localhost:8080/"
        },
        "outputId": "0a4e9244-8f54-48c7-acfb-b9cff4e2fcdd"
      },
      "source": [
        "# Precision and Recall:\n",
        "\n",
        "print(\"Precision:\", sklearn.metrics.precision_score(Y_train, predictions))\n",
        "print(\"Recall:\",sklearn.metrics.recall_score(Y_train, predictions))"
      ],
      "execution_count": null,
      "outputs": [
        {
          "output_type": "stream",
          "text": [
            "Precision: 0.8145695364238411\n",
            "Recall: 0.7192982456140351\n"
          ],
          "name": "stdout"
        }
      ]
    },
    {
      "cell_type": "markdown",
      "metadata": {
        "id": "z9oBh0N5t9U2"
      },
      "source": [
        "## SVM"
      ]
    },
    {
      "cell_type": "code",
      "metadata": {
        "id": "saoSYcjxuLjY"
      },
      "source": [
        "classifier = sklearn.svm.SVC(kernel='rbf')\n",
        "classifier = sklearn.pipeline.make_pipeline(sklearn.preprocessing.StandardScaler(),classifier)  "
      ],
      "execution_count": null,
      "outputs": []
    },
    {
      "cell_type": "code",
      "metadata": {
        "colab": {
          "base_uri": "https://localhost:8080/"
        },
        "id": "98mohtftQDtn",
        "outputId": "fb0ea435-c66f-453c-e6b1-76363f8d1f68"
      },
      "source": [
        "# Grid Search\n",
        "\n",
        "param_grid = { 'C' : [0.1,0.09,0.11], 'kernel':['linear']}\n",
        "\n",
        "\n",
        "#rf = sklearn.ensemble.RandomForestClassifier(n_estimators=100, max_features='auto', oob_score=True, random_state=1, n_jobs=-1)\n",
        "svm = sklearn.svm.SVC()\n",
        "clf = sklearn.model_selection.GridSearchCV(estimator=svm, param_grid=param_grid, n_jobs=-1)\n",
        "clf.fit(X_train, Y_train)\n",
        "clf.best_params_"
      ],
      "execution_count": 37,
      "outputs": [
        {
          "output_type": "execute_result",
          "data": {
            "text/plain": [
              "{'C': 0.1, 'kernel': 'linear'}"
            ]
          },
          "metadata": {
            "tags": []
          },
          "execution_count": 37
        }
      ]
    },
    {
      "cell_type": "code",
      "metadata": {
        "colab": {
          "base_uri": "https://localhost:8080/"
        },
        "id": "aeOA-kwKSZW_",
        "outputId": "c85d8297-340b-492a-f55b-f4600d6c5d8c"
      },
      "source": [
        "# SVM classifier with best hyperparameters\n",
        "\n",
        "svmc = sklearn.svm.SVC(C=0.1,kernel='linear') \n",
        "                       \n",
        "svmc.fit(X_train, Y_train)\n",
        "svmc.score(X_train, Y_train)"
      ],
      "execution_count": 24,
      "outputs": [
        {
          "output_type": "execute_result",
          "data": {
            "text/plain": [
              "0.7867564534231201"
            ]
          },
          "metadata": {
            "tags": []
          },
          "execution_count": 24
        }
      ]
    },
    {
      "cell_type": "code",
      "metadata": {
        "colab": {
          "base_uri": "https://localhost:8080/"
        },
        "id": "MCoWGL5YS0oX",
        "outputId": "89794157-78e8-4bb3-fbd0-edebc3199a74"
      },
      "source": [
        "# Cross validation accuracy evaluation:\n",
        "\n",
        "scores = sklearn.model_selection.cross_val_score(svmc,X_train,Y_train,cv=10,scoring='accuracy')\n",
        "print(\"%0.3f accuracy with a standard deviation of %0.3f\" % (scores.mean(), scores.std()))"
      ],
      "execution_count": 38,
      "outputs": [
        {
          "output_type": "stream",
          "text": [
            "0.787 accuracy with a standard deviation of 0.029\n"
          ],
          "name": "stdout"
        }
      ]
    },
    {
      "cell_type": "code",
      "metadata": {
        "colab": {
          "base_uri": "https://localhost:8080/"
        },
        "id": "1sf1G6ahW81b",
        "outputId": "aab04f0c-8ccd-4ccf-9c57-725ba80a831f"
      },
      "source": [
        "# Confusion Matrix evaluation:\n",
        "\n",
        "predictions = sklearn.model_selection.cross_val_predict(svmc, X_train, Y_train, cv=10)\n",
        "sklearn.metrics.confusion_matrix(Y_train, predictions)"
      ],
      "execution_count": 40,
      "outputs": [
        {
          "output_type": "execute_result",
          "data": {
            "text/plain": [
              "array([[468,  81],\n",
              "       [109, 233]])"
            ]
          },
          "metadata": {
            "tags": []
          },
          "execution_count": 40
        }
      ]
    },
    {
      "cell_type": "code",
      "metadata": {
        "colab": {
          "base_uri": "https://localhost:8080/"
        },
        "id": "PU8o6ypAW_pS",
        "outputId": "fd3c7162-efd3-4548-940d-715b3757a889"
      },
      "source": [
        "# Precision and Recall:\n",
        "\n",
        "print(\"Precision:\", sklearn.metrics.precision_score(Y_train, predictions))\n",
        "print(\"Recall:\",sklearn.metrics.recall_score(Y_train, predictions))"
      ],
      "execution_count": 41,
      "outputs": [
        {
          "output_type": "stream",
          "text": [
            "Precision: 0.7420382165605095\n",
            "Recall: 0.6812865497076024\n"
          ],
          "name": "stdout"
        }
      ]
    },
    {
      "cell_type": "markdown",
      "metadata": {
        "id": "1iyBtbtZXIH6"
      },
      "source": [
        "# KNN"
      ]
    },
    {
      "cell_type": "code",
      "metadata": {
        "id": "mdYd0PV4XL33"
      },
      "source": [
        "#class sklearn.neighbors.KNeighborsClassifier(n_neighbors=5, *, weights='uniform', algorithm='auto', leaf_size=30, p=2, metric='minkowski', metric_params=None, n_jobs=None, **kwargs)\n",
        "\n",
        "knn = sklearn.neighbors.KNeighborsClassifier()\n",
        "knn = sklearn.pipeline.make_pipeline(sklearn.preprocessing.StandardScaler(),classifier)  "
      ],
      "execution_count": 44,
      "outputs": []
    },
    {
      "cell_type": "code",
      "metadata": {
        "colab": {
          "base_uri": "https://localhost:8080/"
        },
        "id": "A0O2-RIDXxXE",
        "outputId": "40487c52-c1f9-4eef-b305-a194ab094ab6"
      },
      "source": [
        "# Grid Search\n",
        "\n",
        "param_grid = { 'n_neighbors' : [1,2,3,4,5]}\n",
        "\n",
        "\n",
        "knn = sklearn.neighbors.KNeighborsClassifier()\n",
        "clf = sklearn.model_selection.GridSearchCV(estimator=knn, param_grid=param_grid, n_jobs=-1)\n",
        "clf.fit(X_train, Y_train)\n",
        "clf.best_params_"
      ],
      "execution_count": 48,
      "outputs": [
        {
          "output_type": "execute_result",
          "data": {
            "text/plain": [
              "{'n_neighbors': 1}"
            ]
          },
          "metadata": {
            "tags": []
          },
          "execution_count": 48
        }
      ]
    },
    {
      "cell_type": "code",
      "metadata": {
        "colab": {
          "base_uri": "https://localhost:8080/"
        },
        "id": "nyOjGd3SXxgY",
        "outputId": "6166bda0-6d30-4e18-9ab4-e5a1dac24304"
      },
      "source": [
        "# SVM classifier with best hyperparameters\n",
        "\n",
        "knn = sklearn.neighbors.KNeighborsClassifier(n_neighbors=1)\n",
        "                       \n",
        "knn.fit(X_train, Y_train)\n",
        "knn.score(X_train, Y_train)"
      ],
      "execution_count": 84,
      "outputs": [
        {
          "output_type": "execute_result",
          "data": {
            "text/plain": [
              "0.9595959595959596"
            ]
          },
          "metadata": {
            "tags": []
          },
          "execution_count": 84
        }
      ]
    },
    {
      "cell_type": "code",
      "metadata": {
        "colab": {
          "base_uri": "https://localhost:8080/"
        },
        "id": "LIpVftnyXxo2",
        "outputId": "b2dddab5-f95a-479c-d38f-26cc795f9861"
      },
      "source": [
        "# Cross validation accuracy evaluation:\n",
        "\n",
        "scores = sklearn.model_selection.cross_val_score(knn,X_train,Y_train,cv=10,scoring='accuracy')\n",
        "print(\"%0.3f accuracy with a standard deviation of %0.3f\" % (scores.mean(), scores.std()))"
      ],
      "execution_count": 85,
      "outputs": [
        {
          "output_type": "stream",
          "text": [
            "0.700 accuracy with a standard deviation of 0.044\n"
          ],
          "name": "stdout"
        }
      ]
    },
    {
      "cell_type": "code",
      "metadata": {
        "colab": {
          "base_uri": "https://localhost:8080/"
        },
        "id": "sCugglxwZVnV",
        "outputId": "3b04d296-f926-464a-da9d-a922445ceb81"
      },
      "source": [
        "# Confusion Matrix evaluation:\n",
        "\n",
        "predictions = sklearn.model_selection.cross_val_predict(knn, X_train, Y_train, cv=10)\n",
        "sklearn.metrics.confusion_matrix(Y_train, predictions)"
      ],
      "execution_count": 86,
      "outputs": [
        {
          "output_type": "execute_result",
          "data": {
            "text/plain": [
              "array([[434, 115],\n",
              "       [152, 190]])"
            ]
          },
          "metadata": {
            "tags": []
          },
          "execution_count": 86
        }
      ]
    },
    {
      "cell_type": "code",
      "metadata": {
        "colab": {
          "base_uri": "https://localhost:8080/"
        },
        "id": "Bkrhip5WZtT7",
        "outputId": "cb0ee514-ec3b-434b-87ac-4c93152e20dd"
      },
      "source": [
        "# Precision and Recall:\n",
        "\n",
        "print(\"Precision:\", sklearn.metrics.precision_score(Y_train, predictions))\n",
        "print(\"Recall:\",sklearn.metrics.recall_score(Y_train, predictions))"
      ],
      "execution_count": 87,
      "outputs": [
        {
          "output_type": "stream",
          "text": [
            "Precision: 0.6229508196721312\n",
            "Recall: 0.5555555555555556\n"
          ],
          "name": "stdout"
        }
      ]
    },
    {
      "cell_type": "markdown",
      "metadata": {
        "id": "5yeze3XLackE"
      },
      "source": [
        "# Catboost"
      ]
    },
    {
      "cell_type": "code",
      "metadata": {
        "id": "T17j-R6Wafad"
      },
      "source": [
        ""
      ],
      "execution_count": null,
      "outputs": []
    },
    {
      "cell_type": "markdown",
      "metadata": {
        "id": "5NdBZBxRueLX"
      },
      "source": [
        "# Output builder"
      ]
    },
    {
      "cell_type": "code",
      "metadata": {
        "id": "GIyAGwQye9cX"
      },
      "source": [
        "classifier = svmc # [random_forest, svmc]\n",
        "\n",
        "Y_prediction = classifier.predict(X_test)\n",
        "Y_prediction_df = pd.DataFrame(Y_prediction)\n",
        "\n",
        "Y_prediction_df = Y_prediction_df.reset_index()\n",
        "Y_prediction_df.columns = ['PassengerId','Survived']\n",
        "Y_prediction_df['PassengerId'] = Y_prediction_df['PassengerId'] + 892\n",
        "Y_prediction_df = Y_prediction_df.set_index('PassengerId')"
      ],
      "execution_count": null,
      "outputs": []
    },
    {
      "cell_type": "code",
      "metadata": {
        "id": "VCRji5OmqFhB"
      },
      "source": [
        "Y_prediction_df.to_csv(\"outputs.csv\")"
      ],
      "execution_count": null,
      "outputs": []
    }
  ]
}